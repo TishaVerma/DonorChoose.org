{
 "cells": [
  {
   "cell_type": "code",
   "execution_count": 1,
   "metadata": {},
   "outputs": [
    {
     "name": "stdout",
     "output_type": "stream",
     "text": [
      "2.1.0\r\n"
     ]
    }
   ],
   "source": [
    "import pandas as pd\n",
    "import numpy as np\n",
    "import matplotlib.pyplot as plt\n",
    "import sklearn\n",
    "from sklearn.model_selection import train_test_split\n",
    "from sklearn.preprocessing import LabelEncoder,StandardScaler,OneHotEncoder\n",
    "from sklearn.compose import ColumnTransformer\n",
    "import os\n",
    "import seaborn as sns\n",
    "import warnings\n",
    "warnings.filterwarnings(\"ignore\", category=DeprecationWarning)\n",
    "\n",
    "import tensorflow as tf\n",
    "from tensorflow import *\n",
    "from tensorflow.keras import Sequential\n",
    "from tensorflow.keras.layers import Flatten, Dense , Dropout, BatchNormalization\n",
    "from tensorflow.keras.layers import Conv2D, MaxPool2D\n",
    "from tensorflow.keras.optimizers import Adam\n",
    "print(tf.__version__)"
   ]
  },
  {
   "cell_type": "code",
   "execution_count": 55,
   "metadata": {},
   "outputs": [],
   "source": [
    "train=pd.read_csv(r'C:\\Users\\HP\\AppData\\Local\\Programs\\Python\\Python35\\train\\train.csv',low_memory=False)\n",
    "test=pd.read_csv(r'C:\\Users\\HP\\AppData\\Local\\Programs\\Python\\Python35\\test\\test.csv',low_memory=False)\n",
    "resource=pd.read_csv(r'C:\\Users\\HP\\AppData\\Local\\Programs\\Python\\Python35\\resources\\resources.csv',low_memory=False)"
   ]
  },
  {
   "cell_type": "markdown",
   "metadata": {},
   "source": [
    "**DATA ANALYSIS**"
   ]
  },
  {
   "cell_type": "code",
   "execution_count": 18,
   "metadata": {},
   "outputs": [
    {
     "data": {
      "text/plain": [
       "(        id                        teacher_id teacher_prefix school_state  \\\n",
       " 0  p036502  484aaf11257089a66cfedc9461c6bd0a            Ms.           NV   \n",
       " 1  p039565  df72a3ba8089423fa8a94be88060f6ed           Mrs.           GA   \n",
       " 2  p233823  a9b876a9252e08a55e3d894150f75ba3            Ms.           UT   \n",
       " 3  p185307  525fdbb6ec7f538a48beebaa0a51b24f            Mr.           NC   \n",
       " 4  p013780  a63b5547a7239eae4c1872670848e61a            Mr.           CA   \n",
       " \n",
       "   project_submitted_datetime project_grade_category  \\\n",
       " 0        2016-11-18 14:45:59          Grades PreK-2   \n",
       " 1        2017-04-26 15:57:28             Grades 3-5   \n",
       " 2        2017-01-01 22:57:44             Grades 3-5   \n",
       " 3        2016-08-12 15:42:11             Grades 3-5   \n",
       " 4        2016-08-06 09:09:11             Grades 6-8   \n",
       " \n",
       "             project_subject_categories  \\\n",
       " 0                  Literacy & Language   \n",
       " 1    Music & The Arts, Health & Sports   \n",
       " 2  Math & Science, Literacy & Language   \n",
       " 3                      Health & Sports   \n",
       " 4                      Health & Sports   \n",
       " \n",
       "             project_subject_subcategories  \\\n",
       " 0                                Literacy   \n",
       " 1            Performing Arts, Team Sports   \n",
       " 2  Applied Sciences, Literature & Writing   \n",
       " 3                       Health & Wellness   \n",
       " 4                       Health & Wellness   \n",
       " \n",
       "                                        project_title  \\\n",
       " 0                           Super Sight Word Centers   \n",
       " 1                             Keep Calm and Dance On   \n",
       " 2                              Lets 3Doodle to Learn   \n",
       " 3  \\\"Kid Inspired\\\" Equipment to Increase Activit...   \n",
       " 4   We need clean water for our culinary arts class!   \n",
       " \n",
       "                                      project_essay_1  \\\n",
       " 0  Most of my kindergarten students come from low...   \n",
       " 1  Our elementary school is a culturally rich sch...   \n",
       " 2  Hello;\\r\\nMy name is Mrs. Brotherton. I teach ...   \n",
       " 3  My students are the greatest students but are ...   \n",
       " 4  My students are athletes and students who are ...   \n",
       " \n",
       "                                      project_essay_2 project_essay_3  \\\n",
       " 0  I currently have a differentiated sight word c...             NaN   \n",
       " 1  We strive to provide our diverse population of...             NaN   \n",
       " 2  We are looking to add some 3Doodler to our cla...             NaN   \n",
       " 3  The student's project which is totally \\\"kid-i...             NaN   \n",
       " 4  For some reason in our kitchen the water comes...             NaN   \n",
       " \n",
       "   project_essay_4                           project_resource_summary  \\\n",
       " 0             NaN  My students need 6 Ipod Nano's to create and d...   \n",
       " 1             NaN  My students need matching shirts to wear for d...   \n",
       " 2             NaN  My students need the 3doodler. We are an SEM s...   \n",
       " 3             NaN  My students need balls and other activity equi...   \n",
       " 4             NaN  My students need a water filtration system for...   \n",
       " \n",
       "    teacher_number_of_previously_posted_projects  project_is_approved  \n",
       " 0                                            26                    1  \n",
       " 1                                             1                    0  \n",
       " 2                                             5                    1  \n",
       " 3                                            16                    0  \n",
       " 4                                            42                    1  ,\n",
       " id                                                   0\n",
       " teacher_id                                           0\n",
       " teacher_prefix                                       4\n",
       " school_state                                         0\n",
       " project_submitted_datetime                           0\n",
       " project_grade_category                               0\n",
       " project_subject_categories                           0\n",
       " project_subject_subcategories                        0\n",
       " project_title                                        0\n",
       " project_essay_1                                      0\n",
       " project_essay_2                                      0\n",
       " project_essay_3                                 175706\n",
       " project_essay_4                                 175706\n",
       " project_resource_summary                             0\n",
       " teacher_number_of_previously_posted_projects         0\n",
       " project_is_approved                                  0\n",
       " dtype: int64)"
      ]
     },
     "execution_count": 18,
     "metadata": {},
     "output_type": "execute_result"
    }
   ],
   "source": [
    "train.head(),train.isnull().sum()"
   ]
  },
  {
   "cell_type": "code",
   "execution_count": 19,
   "metadata": {},
   "outputs": [
    {
     "data": {
      "image/png": "[encoded data removed]",
      "text/plain": [
       "<Figure size 1296x576 with 2 Axes>"
      ]
     },
     "metadata": {
      "needs_background": "light"
     },
     "output_type": "display_data"
    }
   ],
   "source": [
    "f, ax = plt.subplots(1, 2, figsize=(18, 8))\n",
    "train['project_is_approved'].value_counts().plot.pie(autopct='%1.1f%%', ax=ax[0], shadow=True)\n",
    "ax[0].set_title('project approved Status')\n",
    "ax[0].set_ylabel('')\n",
    "\n",
    "sns.countplot('project_is_approved', data=train, ax=ax[1])\n",
    "ax[1].set_title('project approved Status')\n",
    "plt.show()"
   ]
  },
  {
   "cell_type": "code",
   "execution_count": 20,
   "metadata": {},
   "outputs": [
    {
     "data": {
      "image/png": "[encoded data removed]",
      "text/plain": [
       "<Figure size 1440x576 with 2 Axes>"
      ]
     },
     "metadata": {
      "needs_background": "light"
     },
     "output_type": "display_data"
    }
   ],
   "source": [
    "#teacher prefix\n",
    "import warnings\n",
    "warnings.simplefilter(action='ignore', category=FutureWarning)\n",
    "\n",
    "f, ax = plt.subplots(1, 2, figsize=(20,8))\n",
    "train[['project_is_approved', 'teacher_prefix']].groupby(['teacher_prefix']).mean().plot.bar(ax=ax[0])\n",
    "ax[0].set_title('project_is_approved vs teacher_prefix')\n",
    "sns.countplot('teacher_prefix', hue='project_is_approved', data=train, ax=ax[1])\n",
    "ax[1].set_title('cwc')\n",
    "plt.show()"
   ]
  },
  {
   "cell_type": "code",
   "execution_count": 21,
   "metadata": {},
   "outputs": [
    {
     "data": {
      "text/plain": [
       "project_is_approved  teacher_prefix\n",
       "0                    Dr.                   5\n",
       "                     Mr.                2791\n",
       "                     Mrs.              13921\n",
       "                     Ms.               10212\n",
       "                     Teacher             805\n",
       "1                    Dr.                  21\n",
       "                     Mr.               14876\n",
       "                     Mrs.              81484\n",
       "                     Ms.               54854\n",
       "                     Teacher            3107\n",
       "Name: teacher_prefix, dtype: int64"
      ]
     },
     "execution_count": 21,
     "metadata": {},
     "output_type": "execute_result"
    }
   ],
   "source": [
    "train.groupby(['project_is_approved', 'teacher_prefix'])['teacher_prefix'].count()"
   ]
  },
  {
   "cell_type": "code",
   "execution_count": 22,
   "metadata": {},
   "outputs": [],
   "source": [
    "train['Initial'] = 0\n",
    "\n",
    "train.loc[train['teacher_prefix'] == 'Dr.' , 'Initial'] = 0\n",
    "train.loc[train['teacher_prefix'] == 'Mr.' , 'Initial'] = 1\n",
    "train.loc[train['teacher_prefix'] == 'Mrs.' , 'Initial'] = 2\n",
    "train.loc[train['teacher_prefix'] == 'Ms.' , 'Initial'] = 3\n",
    "train.loc[train['teacher_prefix'] == 'Teacher' , 'Initial'] = 4"
   ]
  },
  {
   "cell_type": "code",
   "execution_count": 23,
   "metadata": {},
   "outputs": [
    {
     "data": {
      "image/png": "[encoded data removed]",
      "text/plain": [
       "<Figure size 1440x576 with 2 Axes>"
      ]
     },
     "metadata": {
      "needs_background": "light"
     },
     "output_type": "display_data"
    }
   ],
   "source": [
    "#cwc\n",
    "f, ax = plt.subplots(1, 2, figsize=(20,8))\n",
    "train[['project_is_approved', 'Initial']].groupby(['Initial']).mean().plot.bar(ax=ax[0])\n",
    "ax[0].set_title('project_is_approved vs teacher_prefix')\n",
    "sns.countplot('Initial', hue='project_is_approved', data=train, ax=ax[1])\n",
    "ax[1].set_title('cwc')\n",
    "plt.show()"
   ]
  },
  {
   "cell_type": "code",
   "execution_count": 24,
   "metadata": {},
   "outputs": [
    {
     "data": {
      "text/plain": [
       "project_is_approved  project_grade_category\n",
       "0                    Grades 3-5                 9007\n",
       "                     Grades 6-8                 4414\n",
       "                     Grades 9-12                3017\n",
       "                     Grades PreK-2             11296\n",
       "1                    Grades 3-5                52675\n",
       "                     Grades 6-8                23783\n",
       "                     Grades 9-12               15294\n",
       "                     Grades PreK-2             62594\n",
       "Name: project_grade_category, dtype: int64"
      ]
     },
     "execution_count": 24,
     "metadata": {},
     "output_type": "execute_result"
    }
   ],
   "source": [
    "train.groupby(['project_is_approved', 'project_grade_category'])['project_grade_category'].count()"
   ]
  },
  {
   "cell_type": "code",
   "execution_count": 25,
   "metadata": {},
   "outputs": [],
   "source": [
    "train['GRADE_CATEGORY'] = 0\n",
    "\n",
    "train.loc[train['project_grade_category'] == 'Grades 3-5' , 'GRADE_CATEGORY'] = 0\n",
    "train.loc[train['project_grade_category'] == 'Grades 6-8' , 'GRADE_CATEGORY'] = 1\n",
    "train.loc[train['project_grade_category'] == 'Grades 9-12' , 'GRADE_CATEGORY'] = 2\n",
    "train.loc[train['project_grade_category'] == 'Grades PreK-2' , 'GRADE_CATEGORY'] = 3"
   ]
  },
  {
   "cell_type": "code",
   "execution_count": 26,
   "metadata": {},
   "outputs": [
    {
     "data": {
      "image/png": "[encoded data removed]",
      "text/plain": [
       "<Figure size 1440x576 with 2 Axes>"
      ]
     },
     "metadata": {
      "needs_background": "light"
     },
     "output_type": "display_data"
    }
   ],
   "source": [
    "#grade category\n",
    "import warnings\n",
    "warnings.filterwarnings(\"ignore\", category=UserWarning)\n",
    "\n",
    "f, ax = plt.subplots(1, 2, figsize=(20, 8))\n",
    "sns.barplot('GRADE_CATEGORY', 'project_is_approved', data=train, ax=ax[0])\n",
    "ax[0].set_title('GRADE_CATEGORY vs project_is_approved')\n",
    "sns.factorplot('GRADE_CATEGORY', 'project_is_approved', data=train, ax=ax[1])\n",
    "ax[1].set_title('GRADE_CATEGORY vs project_is_approved')\n",
    "plt.close(2)\n",
    "plt.show()"
   ]
  },
  {
   "cell_type": "markdown",
   "metadata": {},
   "source": [
    "**DATA PREPROCESSING**"
   ]
  },
  {
   "cell_type": "code",
   "execution_count": 3,
   "metadata": {},
   "outputs": [
    {
     "data": {
      "text/html": [
       "<div>\n",
       "<style scoped>\n",
       "    .dataframe tbody tr th:only-of-type {\n",
       "        vertical-align: middle;\n",
       "    }\n",
       "\n",
       "    .dataframe tbody tr th {\n",
       "        vertical-align: top;\n",
       "    }\n",
       "\n",
       "    .dataframe thead th {\n",
       "        text-align: right;\n",
       "    }\n",
       "</style>\n",
       "<table border=\"1\" class=\"dataframe\">\n",
       "  <thead>\n",
       "    <tr style=\"text-align: right;\">\n",
       "      <th></th>\n",
       "      <th>id</th>\n",
       "      <th>teacher_id</th>\n",
       "      <th>school_state</th>\n",
       "      <th>project_submitted_datetime</th>\n",
       "      <th>project_grade_category</th>\n",
       "      <th>project_subject_categories</th>\n",
       "      <th>project_subject_subcategories</th>\n",
       "      <th>project_title</th>\n",
       "      <th>teacher_number_of_previously_posted_projects</th>\n",
       "      <th>project_is_approved</th>\n",
       "    </tr>\n",
       "  </thead>\n",
       "  <tbody>\n",
       "    <tr>\n",
       "      <th>0</th>\n",
       "      <td>p036502</td>\n",
       "      <td>484aaf11257089a66cfedc9461c6bd0a</td>\n",
       "      <td>NV</td>\n",
       "      <td>2016-11-18 14:45:59</td>\n",
       "      <td>Grades PreK-2</td>\n",
       "      <td>Literacy &amp; Language</td>\n",
       "      <td>Literacy</td>\n",
       "      <td>Super Sight Word Centers</td>\n",
       "      <td>26</td>\n",
       "      <td>1</td>\n",
       "    </tr>\n",
       "    <tr>\n",
       "      <th>1</th>\n",
       "      <td>p039565</td>\n",
       "      <td>df72a3ba8089423fa8a94be88060f6ed</td>\n",
       "      <td>GA</td>\n",
       "      <td>2017-04-26 15:57:28</td>\n",
       "      <td>Grades 3-5</td>\n",
       "      <td>Music &amp; The Arts, Health &amp; Sports</td>\n",
       "      <td>Performing Arts, Team Sports</td>\n",
       "      <td>Keep Calm and Dance On</td>\n",
       "      <td>1</td>\n",
       "      <td>0</td>\n",
       "    </tr>\n",
       "    <tr>\n",
       "      <th>2</th>\n",
       "      <td>p233823</td>\n",
       "      <td>a9b876a9252e08a55e3d894150f75ba3</td>\n",
       "      <td>UT</td>\n",
       "      <td>2017-01-01 22:57:44</td>\n",
       "      <td>Grades 3-5</td>\n",
       "      <td>Math &amp; Science, Literacy &amp; Language</td>\n",
       "      <td>Applied Sciences, Literature &amp; Writing</td>\n",
       "      <td>Lets 3Doodle to Learn</td>\n",
       "      <td>5</td>\n",
       "      <td>1</td>\n",
       "    </tr>\n",
       "    <tr>\n",
       "      <th>3</th>\n",
       "      <td>p185307</td>\n",
       "      <td>525fdbb6ec7f538a48beebaa0a51b24f</td>\n",
       "      <td>NC</td>\n",
       "      <td>2016-08-12 15:42:11</td>\n",
       "      <td>Grades 3-5</td>\n",
       "      <td>Health &amp; Sports</td>\n",
       "      <td>Health &amp; Wellness</td>\n",
       "      <td>\\\"Kid Inspired\\\" Equipment to Increase Activit...</td>\n",
       "      <td>16</td>\n",
       "      <td>0</td>\n",
       "    </tr>\n",
       "    <tr>\n",
       "      <th>4</th>\n",
       "      <td>p013780</td>\n",
       "      <td>a63b5547a7239eae4c1872670848e61a</td>\n",
       "      <td>CA</td>\n",
       "      <td>2016-08-06 09:09:11</td>\n",
       "      <td>Grades 6-8</td>\n",
       "      <td>Health &amp; Sports</td>\n",
       "      <td>Health &amp; Wellness</td>\n",
       "      <td>We need clean water for our culinary arts class!</td>\n",
       "      <td>42</td>\n",
       "      <td>1</td>\n",
       "    </tr>\n",
       "    <tr>\n",
       "      <th>...</th>\n",
       "      <td>...</td>\n",
       "      <td>...</td>\n",
       "      <td>...</td>\n",
       "      <td>...</td>\n",
       "      <td>...</td>\n",
       "      <td>...</td>\n",
       "      <td>...</td>\n",
       "      <td>...</td>\n",
       "      <td>...</td>\n",
       "      <td>...</td>\n",
       "    </tr>\n",
       "    <tr>\n",
       "      <th>182075</th>\n",
       "      <td>p014188</td>\n",
       "      <td>dd05465e8daad481c9be9e61e147c9cd</td>\n",
       "      <td>NM</td>\n",
       "      <td>2016-10-07 16:13:32</td>\n",
       "      <td>Grades 6-8</td>\n",
       "      <td>Math &amp; Science</td>\n",
       "      <td>Mathematics</td>\n",
       "      <td>Math is Fun!!</td>\n",
       "      <td>1</td>\n",
       "      <td>1</td>\n",
       "    </tr>\n",
       "    <tr>\n",
       "      <th>182076</th>\n",
       "      <td>p116452</td>\n",
       "      <td>40762708f7589d161ae883dede98a6a1</td>\n",
       "      <td>AZ</td>\n",
       "      <td>2017-03-11 23:58:31</td>\n",
       "      <td>Grades 9-12</td>\n",
       "      <td>Music &amp; The Arts</td>\n",
       "      <td>Performing Arts</td>\n",
       "      <td>\\\"Sew\\\" you think you can design costumes!</td>\n",
       "      <td>0</td>\n",
       "      <td>1</td>\n",
       "    </tr>\n",
       "    <tr>\n",
       "      <th>182077</th>\n",
       "      <td>p074761</td>\n",
       "      <td>3429d29ecba4a37ac5bd69ded4aab341</td>\n",
       "      <td>AZ</td>\n",
       "      <td>2017-02-09 15:42:43</td>\n",
       "      <td>Grades 6-8</td>\n",
       "      <td>Math &amp; Science</td>\n",
       "      <td>Applied Sciences, Environmental Science</td>\n",
       "      <td>Sustainable Classroom</td>\n",
       "      <td>48</td>\n",
       "      <td>0</td>\n",
       "    </tr>\n",
       "    <tr>\n",
       "      <th>182078</th>\n",
       "      <td>p136737</td>\n",
       "      <td>497ba7027394d6490d2d2b34af2db5fd</td>\n",
       "      <td>FL</td>\n",
       "      <td>2016-12-28 14:20:07</td>\n",
       "      <td>Grades PreK-2</td>\n",
       "      <td>Literacy &amp; Language</td>\n",
       "      <td>Literacy</td>\n",
       "      <td>Can I go to the library?</td>\n",
       "      <td>29</td>\n",
       "      <td>1</td>\n",
       "    </tr>\n",
       "    <tr>\n",
       "      <th>182079</th>\n",
       "      <td>p190772</td>\n",
       "      <td>337bc63eccf6f6ee26e727a1f18b80f4</td>\n",
       "      <td>TX</td>\n",
       "      <td>2016-05-15 20:25:14</td>\n",
       "      <td>Grades 3-5</td>\n",
       "      <td>Literacy &amp; Language</td>\n",
       "      <td>Literacy</td>\n",
       "      <td>Reader Leaders!</td>\n",
       "      <td>1</td>\n",
       "      <td>1</td>\n",
       "    </tr>\n",
       "  </tbody>\n",
       "</table>\n",
       "<p>182080 rows × 10 columns</p>\n",
       "</div>"
      ],
      "text/plain": [
       "             id                        teacher_id school_state  \\\n",
       "0       p036502  484aaf11257089a66cfedc9461c6bd0a           NV   \n",
       "1       p039565  df72a3ba8089423fa8a94be88060f6ed           GA   \n",
       "2       p233823  a9b876a9252e08a55e3d894150f75ba3           UT   \n",
       "3       p185307  525fdbb6ec7f538a48beebaa0a51b24f           NC   \n",
       "4       p013780  a63b5547a7239eae4c1872670848e61a           CA   \n",
       "...         ...                               ...          ...   \n",
       "182075  p014188  dd05465e8daad481c9be9e61e147c9cd           NM   \n",
       "182076  p116452  40762708f7589d161ae883dede98a6a1           AZ   \n",
       "182077  p074761  3429d29ecba4a37ac5bd69ded4aab341           AZ   \n",
       "182078  p136737  497ba7027394d6490d2d2b34af2db5fd           FL   \n",
       "182079  p190772  337bc63eccf6f6ee26e727a1f18b80f4           TX   \n",
       "\n",
       "       project_submitted_datetime project_grade_category  \\\n",
       "0             2016-11-18 14:45:59          Grades PreK-2   \n",
       "1             2017-04-26 15:57:28             Grades 3-5   \n",
       "2             2017-01-01 22:57:44             Grades 3-5   \n",
       "3             2016-08-12 15:42:11             Grades 3-5   \n",
       "4             2016-08-06 09:09:11             Grades 6-8   \n",
       "...                           ...                    ...   \n",
       "182075        2016-10-07 16:13:32             Grades 6-8   \n",
       "182076        2017-03-11 23:58:31            Grades 9-12   \n",
       "182077        2017-02-09 15:42:43             Grades 6-8   \n",
       "182078        2016-12-28 14:20:07          Grades PreK-2   \n",
       "182079        2016-05-15 20:25:14             Grades 3-5   \n",
       "\n",
       "                 project_subject_categories  \\\n",
       "0                       Literacy & Language   \n",
       "1         Music & The Arts, Health & Sports   \n",
       "2       Math & Science, Literacy & Language   \n",
       "3                           Health & Sports   \n",
       "4                           Health & Sports   \n",
       "...                                     ...   \n",
       "182075                       Math & Science   \n",
       "182076                     Music & The Arts   \n",
       "182077                       Math & Science   \n",
       "182078                  Literacy & Language   \n",
       "182079                  Literacy & Language   \n",
       "\n",
       "                  project_subject_subcategories  \\\n",
       "0                                      Literacy   \n",
       "1                  Performing Arts, Team Sports   \n",
       "2        Applied Sciences, Literature & Writing   \n",
       "3                             Health & Wellness   \n",
       "4                             Health & Wellness   \n",
       "...                                         ...   \n",
       "182075                              Mathematics   \n",
       "182076                          Performing Arts   \n",
       "182077  Applied Sciences, Environmental Science   \n",
       "182078                                 Literacy   \n",
       "182079                                 Literacy   \n",
       "\n",
       "                                            project_title  \\\n",
       "0                                Super Sight Word Centers   \n",
       "1                                  Keep Calm and Dance On   \n",
       "2                                   Lets 3Doodle to Learn   \n",
       "3       \\\"Kid Inspired\\\" Equipment to Increase Activit...   \n",
       "4        We need clean water for our culinary arts class!   \n",
       "...                                                   ...   \n",
       "182075                                      Math is Fun!!   \n",
       "182076         \\\"Sew\\\" you think you can design costumes!   \n",
       "182077                              Sustainable Classroom   \n",
       "182078                           Can I go to the library?   \n",
       "182079                                    Reader Leaders!   \n",
       "\n",
       "        teacher_number_of_previously_posted_projects  project_is_approved  \n",
       "0                                                 26                    1  \n",
       "1                                                  1                    0  \n",
       "2                                                  5                    1  \n",
       "3                                                 16                    0  \n",
       "4                                                 42                    1  \n",
       "...                                              ...                  ...  \n",
       "182075                                             1                    1  \n",
       "182076                                             0                    1  \n",
       "182077                                            48                    0  \n",
       "182078                                            29                    1  \n",
       "182079                                             1                    1  \n",
       "\n",
       "[182080 rows x 10 columns]"
      ]
     },
     "execution_count": 3,
     "metadata": {},
     "output_type": "execute_result"
    }
   ],
   "source": [
    "train_x=train.drop(['project_essay_1','project_essay_2','project_essay_3','project_essay_4','project_resource_summary','teacher_prefix'],axis=1)\n",
    "df=train_x\n",
    "df"
   ]
  },
  {
   "cell_type": "code",
   "execution_count": 4,
   "metadata": {},
   "outputs": [
    {
     "data": {
      "text/plain": [
       "(array([['p036502', '484aaf11257089a66cfedc9461c6bd0a', 'NV', ...,\n",
       "         'Literacy', 'Super Sight Word Centers', 26],\n",
       "        ['p039565', 'df72a3ba8089423fa8a94be88060f6ed', 'GA', ...,\n",
       "         'Performing Arts, Team Sports', 'Keep Calm and Dance On', 1],\n",
       "        ['p233823', 'a9b876a9252e08a55e3d894150f75ba3', 'UT', ...,\n",
       "         'Applied Sciences, Literature & Writing',\n",
       "         'Lets 3Doodle to Learn', 5],\n",
       "        ...,\n",
       "        ['p074761', '3429d29ecba4a37ac5bd69ded4aab341', 'AZ', ...,\n",
       "         'Applied Sciences, Environmental Science',\n",
       "         'Sustainable Classroom', 48],\n",
       "        ['p136737', '497ba7027394d6490d2d2b34af2db5fd', 'FL', ...,\n",
       "         'Literacy', 'Can I go to the library?', 29],\n",
       "        ['p190772', '337bc63eccf6f6ee26e727a1f18b80f4', 'TX', ...,\n",
       "         'Literacy', 'Reader Leaders!', 1]], dtype=object),\n",
       " array([1, 0, 1, ..., 0, 1, 1], dtype=int64))"
      ]
     },
     "execution_count": 4,
     "metadata": {},
     "output_type": "execute_result"
    }
   ],
   "source": [
    "X = df.iloc[:, :-1].values\n",
    "Y = df.iloc[:, -1].values\n",
    "X,Y"
   ]
  },
  {
   "cell_type": "code",
   "execution_count": 5,
   "metadata": {},
   "outputs": [
    {
     "name": "stdout",
     "output_type": "stream",
     "text": [
      "array([[25578, 29315, 33, ..., 321, 133693, 26],\n",
      "       [27694, 91061, 10, ..., 392, 75471, 1],\n",
      "       [163739, 69247, 44, ..., 17, 85451, 5],\n",
      "       ...,\n",
      "       [52335, 21017, 3, ..., 8, 135142, 48],\n",
      "       [95729, 29824, 9, ..., 321, 22344, 29],\n",
      "       [133592, 20745, 43, ..., 321, 113747, 1]], dtype=object)\r\n"
     ]
    },
    {
     "data": {
      "text/plain": [
       "VocabularyListCategoricalColumn(key='partial_funding_indicator', vocabulary_list=('True', 'False'), dtype=tf.string, default_value=-1, num_oov_buckets=None)"
      ]
     },
     "execution_count": 5,
     "metadata": {},
     "output_type": "execute_result"
    }
   ],
   "source": [
    "labelencoder_X = LabelEncoder()\n",
    "X[:,0] = labelencoder_X.fit_transform(X[:,0])\n",
    "X[:,1] = labelencoder_X.fit_transform(X[:,1])\n",
    "X[:,2] = labelencoder_X.fit_transform(X[:,2])\n",
    "X[:,3] = labelencoder_X.fit_transform(X[:,3])\n",
    "X[:,4] = labelencoder_X.fit_transform(X[:,4])\n",
    "X[:,5] = labelencoder_X.fit_transform(X[:,5])\n",
    "X[:,6] = labelencoder_X.fit_transform(X[:,6])\n",
    "X[:,7] = labelencoder_X.fit_transform(X[:,7])\n",
    "X[:,8] = labelencoder_X.fit_transform(X[:,8])\n",
    "print(X)\n",
    "tf.feature_column.categorical_column_with_vocabulary_list( \n",
    "    key='partial_funding_indicator', vocabulary_list=['True', 'False'],\n",
    "    dtype=tf.string, num_oov_buckets=None)"
   ]
  },
  {
   "cell_type": "code",
   "execution_count": 6,
   "metadata": {},
   "outputs": [
    {
     "name": "stdout",
     "output_type": "stream",
     "text": [
      "array([1, 0, 1, ..., 0, 1, 1], dtype=int64)\r\n"
     ]
    }
   ],
   "source": [
    "labelencoder_Y = LabelEncoder()\n",
    "Y= labelencoder_Y.fit_transform(Y)\n",
    "print(Y)\n",
    "def my_func(arg):\n",
    "  arg = tf.convert_to_tensor(arg, dtype=tf.float32)\n",
    "  return arg"
   ]
  },
  {
   "cell_type": "code",
   "execution_count": 7,
   "metadata": {},
   "outputs": [],
   "source": [
    "tx=my_func(X)\n",
    "fx=my_func(Y)"
   ]
  },
  {
   "cell_type": "code",
   "execution_count": 8,
   "metadata": {},
   "outputs": [],
   "source": [
    "model=Sequential()\n",
    "\n",
    "model.add(Dense(10,activation='relu'))\n",
    "\n",
    "model.add(Dense(10,activation='relu'))\n",
    "model.add(Dense(1))\n",
    "\n",
    "model.add(Flatten())"
   ]
  },
  {
   "cell_type": "code",
   "execution_count": 9,
   "metadata": {},
   "outputs": [
    {
     "name": "stderr",
     "output_type": "stream",
     "text": [
      "Using TensorFlow backend.\n"
     ]
    }
   ],
   "source": [
    "model.compile(optimizer='adam',loss='mean_squared_error')\n",
    "from keras.callbacks import EarlyStopping"
   ]
  },
  {
   "cell_type": "code",
   "execution_count": 56,
   "metadata": {},
   "outputs": [
    {
     "name": "stdout",
     "output_type": "stream",
     "text": [
      "Train on 182080 samples\n",
      "Epoch 1/50\n",
      "182080/182080 [==============================] - 0s 3us/sample - loss: 484.5433\n",
      "Epoch 2/50\n",
      "182080/182080 [==============================] - 0s 2us/sample - loss: 8.3006\n",
      "Epoch 3/50\n",
      "182080/182080 [==============================] - 0s 2us/sample - loss: 214.5217\n",
      "Epoch 4/50\n",
      "182080/182080 [==============================] - 0s 2us/sample - loss: 294.5965\n",
      "Epoch 5/50\n",
      "182080/182080 [==============================] - 0s 2us/sample - loss: 500.7846\n",
      "Epoch 6/50\n",
      "182080/182080 [==============================] - 0s 2us/sample - loss: 5.9520\n",
      "Epoch 7/50\n",
      "182080/182080 [==============================] - 0s 2us/sample - loss: 584.8636\n",
      "Epoch 8/50\n",
      "182080/182080 [==============================] - 0s 2us/sample - loss: 5.9577\n",
      "Epoch 9/50\n",
      "182080/182080 [==============================] - 0s 2us/sample - loss: 15.0387\n",
      "Epoch 10/50\n",
      "182080/182080 [==============================] - 0s 2us/sample - loss: 463.8243\n",
      "Epoch 11/50\n",
      "182080/182080 [==============================] - 0s 2us/sample - loss: 4.2477\n",
      "Epoch 12/50\n",
      "182080/182080 [==============================] - 0s 2us/sample - loss: 386.3552\n",
      "Epoch 13/50\n",
      "182080/182080 [==============================] - 0s 2us/sample - loss: 3.6422\n",
      "Epoch 14/50\n",
      "182080/182080 [==============================] - 0s 2us/sample - loss: 247.4860\n",
      "Epoch 15/50\n",
      "182080/182080 [==============================] - 0s 2us/sample - loss: 225.2830\n",
      "Epoch 16/50\n",
      "182080/182080 [==============================] - 0s 2us/sample - loss: 21.3454\n",
      "Epoch 17/50\n",
      "182080/182080 [==============================] - 0s 2us/sample - loss: 176.7552\n",
      "Epoch 18/50\n",
      "182080/182080 [==============================] - 0s 2us/sample - loss: 182.1187\n",
      "Epoch 19/50\n",
      "182080/182080 [==============================] - 0s 2us/sample - loss: 293.1084\n",
      "Epoch 20/50\n",
      "182080/182080 [==============================] - 0s 2us/sample - loss: 12.1871\n",
      "Epoch 21/50\n",
      "182080/182080 [==============================] - 0s 2us/sample - loss: 117.7752\n",
      "Epoch 22/50\n",
      "182080/182080 [==============================] - 0s 2us/sample - loss: 231.7787\n",
      "Epoch 23/50\n",
      "182080/182080 [==============================] - 0s 2us/sample - loss: 61.4731\n",
      "Epoch 24/50\n",
      "182080/182080 [==============================] - 0s 2us/sample - loss: 187.7438\n",
      "Epoch 25/50\n",
      "182080/182080 [==============================] - 0s 2us/sample - loss: 205.6453\n",
      "Epoch 26/50\n",
      "182080/182080 [==============================] - 0s 2us/sample - loss: 13.4291\n",
      "Epoch 27/50\n",
      "182080/182080 [==============================] - 0s 2us/sample - loss: 130.7835\n",
      "Epoch 28/50\n",
      "182080/182080 [==============================] - 0s 2us/sample - loss: 205.5749\n",
      "Epoch 29/50\n",
      "182080/182080 [==============================] - 0s 2us/sample - loss: 13.0703\n",
      "Epoch 30/50\n",
      "182080/182080 [==============================] - 0s 2us/sample - loss: 363.9062\n",
      "Epoch 31/50\n",
      "182080/182080 [==============================] - 0s 2us/sample - loss: 2.4647\n",
      "Epoch 32/50\n",
      "182080/182080 [==============================] - 0s 2us/sample - loss: 3.3487\n",
      "Epoch 33/50\n",
      "182080/182080 [==============================] - 0s 2us/sample - loss: 169.3342\n",
      "Epoch 34/50\n",
      "182080/182080 [==============================] - 0s 2us/sample - loss: 278.1703\n",
      "Epoch 35/50\n",
      "182080/182080 [==============================] - 0s 2us/sample - loss: 5.1643\n",
      "Epoch 36/50\n",
      "182080/182080 [==============================] - 0s 2us/sample - loss: 3.1742\n",
      "Epoch 37/50\n",
      "182080/182080 [==============================] - 0s 2us/sample - loss: 92.0253\n",
      "Epoch 38/50\n",
      "182080/182080 [==============================] - 0s 2us/sample - loss: 108.2677\n",
      "Epoch 39/50\n",
      "182080/182080 [==============================] - 0s 2us/sample - loss: 133.9699\n",
      "Epoch 40/50\n",
      "182080/182080 [==============================] - 0s 2us/sample - loss: 23.0004\n",
      "Epoch 41/50\n",
      "182080/182080 [==============================] - 0s 2us/sample - loss: 76.8505\n",
      "Epoch 42/50\n",
      "182080/182080 [==============================] - 0s 2us/sample - loss: 103.9239\n",
      "Epoch 43/50\n",
      "182080/182080 [==============================] - 0s 2us/sample - loss: 215.0374\n",
      "Epoch 44/50\n",
      "182080/182080 [==============================] - 0s 2us/sample - loss: 2.3582\n",
      "Epoch 45/50\n",
      "182080/182080 [==============================] - 0s 2us/sample - loss: 5.9298\n",
      "Epoch 46/50\n",
      "182080/182080 [==============================] - 0s 2us/sample - loss: 190.0371\n",
      "Epoch 47/50\n",
      "182080/182080 [==============================] - 0s 2us/sample - loss: 2.2099\n",
      "Epoch 48/50\n",
      "182080/182080 [==============================] - 0s 2us/sample - loss: 84.0598\n",
      "Epoch 49/50\n",
      "182080/182080 [==============================] - 0s 2us/sample - loss: 70.4102\n",
      "Epoch 50/50\n",
      "182080/182080 [==============================] - 0s 2us/sample - loss: 9.1576\n"
     ]
    }
   ],
   "source": [
    "import warnings\n",
    "warnings.filterwarnings(\"ignore\", category=RuntimeWarning)\n",
    "\n",
    "early=EarlyStopping(patience=3)\n",
    "history=model.fit(tx , fx, epochs=50,callbacks=[early],batch_size=1024)"
   ]
  },
  {
   "cell_type": "code",
   "execution_count": 46,
   "metadata": {},
   "outputs": [
    {
     "data": {
      "text/plain": [
       "array([['p233245', '5724a0c3ce11008366fff36dab4b943c', 'CA', ...,\n",
       "        'Visual Arts', 'Art Will Make You Happy!', 2],\n",
       "       ['p096795', '445619941dc7cbe81c7be109dc61a56a', 'SC', ...,\n",
       "        'Literature & Writing, Mathematics', 'Keeping up with the TIMEs',\n",
       "        1],\n",
       "       ['p236235', 'e92a4902b1611a189643d6f12c51e6a0', 'SC', ...,\n",
       "        'Applied Sciences, Mathematics',\n",
       "        'Building Bridges to Problem Solving', 0],\n",
       "       ...,\n",
       "       ['p210728', '692376a473aaf753890e329081b5787c', 'CA', ...,\n",
       "        'Literacy, Literature & Writing', 'Everyday Authors Among Us', 4],\n",
       "       ['p060531', '0fcaec76e9ea1730e81f2ca8eae5891b', 'OR', ...,\n",
       "        'Warmth, Care & Hunger', 'Coat Lockers for Our Classroom!', 9],\n",
       "       ['p087783', 'd3fd1b7b0efff1eddbd3fbfe4c00711e', 'IN', ...,\n",
       "        'Literacy, Mathematics', 'A Coffee Shop Classroom', 0]],\n",
       "      dtype=object)"
      ]
     },
     "execution_count": 46,
     "metadata": {},
     "output_type": "execute_result"
    }
   ],
   "source": [
    "test_x=test.drop(['project_essay_1','project_essay_2','project_essay_3','project_essay_4','project_resource_summary','teacher_prefix'],axis=1)\n",
    "df=test_x\n",
    "df\n",
    "X2=df.values\n",
    "X2"
   ]
  },
  {
   "cell_type": "code",
   "execution_count": 47,
   "metadata": {},
   "outputs": [
    {
     "name": "stdout",
     "output_type": "stream",
     "text": [
      "array([[69904, 18923, 4, ..., 387, 4822, 2],\n",
      "       [28960, 14777, 40, ..., 320, 33767, 1],\n",
      "       [70818, 50545, 40, ..., 18, 8832, 0],\n",
      "       ...,\n",
      "       [63187, 22861, 4, ..., 307, 19224, 4],\n",
      "       [18191, 3505, 37, ..., 389, 12859, 9],\n",
      "       [26321, 46019, 15, ..., 308, 1241, 0]], dtype=object)\r\n"
     ]
    },
    {
     "data": {
      "text/plain": [
       "VocabularyListCategoricalColumn(key='partial_funding_indicator', vocabulary_list=('True', 'False'), dtype=tf.string, default_value=-1, num_oov_buckets=None)"
      ]
     },
     "execution_count": 47,
     "metadata": {},
     "output_type": "execute_result"
    }
   ],
   "source": [
    "labelencoder_X2 = LabelEncoder()\n",
    "X2[:,0] = labelencoder_X2.fit_transform(X2[:,0])\n",
    "X2[:,1] = labelencoder_X2.fit_transform(X2[:,1])\n",
    "X2[:,2] = labelencoder_X2.fit_transform(X2[:,2])\n",
    "X2[:,3] = labelencoder_X2.fit_transform(X2[:,3])\n",
    "X2[:,4] = labelencoder_X2.fit_transform(X2[:,4])\n",
    "X2[:,5] = labelencoder_X2.fit_transform(X2[:,5])\n",
    "X2[:,6] = labelencoder_X2.fit_transform(X2[:,6])\n",
    "X2[:,7] = labelencoder_X2.fit_transform(X2[:,7])\n",
    "X2[:,8] = labelencoder_X2.fit_transform(X2[:,8])\n",
    "print(X2)\n",
    "tf.feature_column.categorical_column_with_vocabulary_list( \n",
    "    key='partial_funding_indicator', vocabulary_list=['True', 'False'],\n",
    "    dtype=tf.string, num_oov_buckets=None)"
   ]
  },
  {
   "cell_type": "code",
   "execution_count": 48,
   "metadata": {},
   "outputs": [
    {
     "data": {
      "text/plain": [
       "<tf.Tensor: shape=(78035, 9), dtype=float32, numpy=\n",
       "array([[6.9904e+04, 1.8923e+04, 4.0000e+00, ..., 3.8700e+02, 4.8220e+03,\n",
       "        2.0000e+00],\n",
       "       [2.8960e+04, 1.4777e+04, 4.0000e+01, ..., 3.2000e+02, 3.3767e+04,\n",
       "        1.0000e+00],\n",
       "       [7.0818e+04, 5.0545e+04, 4.0000e+01, ..., 1.8000e+01, 8.8320e+03,\n",
       "        0.0000e+00],\n",
       "       ...,\n",
       "       [6.3187e+04, 2.2861e+04, 4.0000e+00, ..., 3.0700e+02, 1.9224e+04,\n",
       "        4.0000e+00],\n",
       "       [1.8191e+04, 3.5050e+03, 3.7000e+01, ..., 3.8900e+02, 1.2859e+04,\n",
       "        9.0000e+00],\n",
       "       [2.6321e+04, 4.6019e+04, 1.5000e+01, ..., 3.0800e+02, 1.2410e+03,\n",
       "        0.0000e+00]], dtype=float32)>"
      ]
     },
     "execution_count": 48,
     "metadata": {},
     "output_type": "execute_result"
    }
   ],
   "source": [
    "cx=my_func(X2)\n",
    "cx"
   ]
  },
  {
   "cell_type": "markdown",
   "metadata": {},
   "source": [
    "**PREDICTION**"
   ]
  },
  {
   "cell_type": "code",
   "execution_count": 49,
   "metadata": {},
   "outputs": [
    {
     "data": {
      "text/html": [
       "<div>\n",
       "<style scoped>\n",
       "    .dataframe tbody tr th:only-of-type {\n",
       "        vertical-align: middle;\n",
       "    }\n",
       "\n",
       "    .dataframe tbody tr th {\n",
       "        vertical-align: top;\n",
       "    }\n",
       "\n",
       "    .dataframe thead th {\n",
       "        text-align: right;\n",
       "    }\n",
       "</style>\n",
       "<table border=\"1\" class=\"dataframe\">\n",
       "  <thead>\n",
       "    <tr style=\"text-align: right;\">\n",
       "      <th></th>\n",
       "      <th>0</th>\n",
       "    </tr>\n",
       "  </thead>\n",
       "  <tbody>\n",
       "    <tr>\n",
       "      <th>0</th>\n",
       "      <td>0.591857</td>\n",
       "    </tr>\n",
       "    <tr>\n",
       "      <th>1</th>\n",
       "      <td>-0.341248</td>\n",
       "    </tr>\n",
       "    <tr>\n",
       "      <th>2</th>\n",
       "      <td>0.871154</td>\n",
       "    </tr>\n",
       "    <tr>\n",
       "      <th>3</th>\n",
       "      <td>0.623107</td>\n",
       "    </tr>\n",
       "    <tr>\n",
       "      <th>4</th>\n",
       "      <td>0.197326</td>\n",
       "    </tr>\n",
       "    <tr>\n",
       "      <th>...</th>\n",
       "      <td>...</td>\n",
       "    </tr>\n",
       "    <tr>\n",
       "      <th>78030</th>\n",
       "      <td>1.315490</td>\n",
       "    </tr>\n",
       "    <tr>\n",
       "      <th>78031</th>\n",
       "      <td>1.170959</td>\n",
       "    </tr>\n",
       "    <tr>\n",
       "      <th>78032</th>\n",
       "      <td>1.444396</td>\n",
       "    </tr>\n",
       "    <tr>\n",
       "      <th>78033</th>\n",
       "      <td>2.624084</td>\n",
       "    </tr>\n",
       "    <tr>\n",
       "      <th>78034</th>\n",
       "      <td>1.583068</td>\n",
       "    </tr>\n",
       "  </tbody>\n",
       "</table>\n",
       "<p>78035 rows × 1 columns</p>\n",
       "</div>"
      ],
      "text/plain": [
       "              0\n",
       "0      0.591857\n",
       "1     -0.341248\n",
       "2      0.871154\n",
       "3      0.623107\n",
       "4      0.197326\n",
       "...         ...\n",
       "78030  1.315490\n",
       "78031  1.170959\n",
       "78032  1.444396\n",
       "78033  2.624084\n",
       "78034  1.583068\n",
       "\n",
       "[78035 rows x 1 columns]"
      ]
     },
     "execution_count": 49,
     "metadata": {},
     "output_type": "execute_result"
    }
   ],
   "source": [
    "predict=model.predict(cx)\n",
    "df3 = pd.DataFrame(data = predict)\n",
    "df3"
   ]
  }
 ],
 "metadata": {
  "kernelspec": {
   "display_name": "Python 3",
   "language": "python",
   "name": "python3"
  },
  "language_info": {
   "codemirror_mode": {
    "name": "ipython",
    "version": 3
   },
   "file_extension": ".py",
   "mimetype": "text/x-python",
   "name": "python",
   "nbconvert_exporter": "python",
   "pygments_lexer": "ipython3",
   "version": "3.6.12"
  }
 },
 "nbformat": 4,
 "nbformat_minor": 4
}
